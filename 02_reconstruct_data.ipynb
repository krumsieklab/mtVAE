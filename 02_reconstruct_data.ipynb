{
 "cells": [
  {
   "cell_type": "code",
   "execution_count": null,
   "metadata": {
    "pycharm": {
     "name": "#%%\n"
    }
   },
   "outputs": [],
   "source": [
    "from models import *\n",
    "\n",
    "import numpy as np\n",
    "import pandas as pd"
   ]
  },
  {
   "cell_type": "code",
   "execution_count": 22,
   "metadata": {
    "pycharm": {
     "name": "#%%\n"
    }
   },
   "outputs": [],
   "source": [
    "# Define helper function\n",
    "    \n",
    "def save_reconstruction(data, vae_path, pca_path, cosine_kpca_path, sigmoid_kpca_path, rbf_kpca_path, poly_kpca_path):\n",
    "    vae_rcon = pd.DataFrame(mtmodel.reconstruct(data.values),\n",
    "                            columns = data.columns)\n",
    "    vae_rcon.to_csv(vae_path, index=False)\n",
    "    \n",
    "    pca_recon = pd.DataFrame(PCA_model_.reconstruct(data),\n",
    "                             columns = data.columns)\n",
    "    pca_recon.to_csv(pca_path, index=False)\n",
    "    \n",
    "    cosine_kpca_recon = pd.DataFrame(cosine_KPCA_model_.reconstruct(data),\n",
    "                             columns = data.columns)\n",
    "    cosine_kpca_recon.to_csv(cosine_kpca_path, index=False)\n",
    "    \n",
    "    sigmoid_kpca_recon = pd.DataFrame(sigmoid_KPCA_model_.reconstruct(data),\n",
    "                             columns = data.columns)\n",
    "    sigmoid_kpca_recon.to_csv(sigmoid_kpca_path, index=False)\n",
    "    \n",
    "    rbf_kpca_recon = pd.DataFrame(rbf_KPCA_model_.reconstruct(data),\n",
    "                             columns = data.columns)\n",
    "    rbf_kpca_recon.to_csv(rbf_kpca_path, index=False)\n",
    "    \n",
    "    poly_kpca_recon = pd.DataFrame(poly_KPCA_model_.reconstruct(data),\n",
    "                             columns = data.columns)\n",
    "    poly_kpca_recon.to_csv(poly_kpca_path, index=False)"
   ]
  },
  {
   "cell_type": "code",
   "execution_count": 23,
   "metadata": {
    "pycharm": {
     "name": "#%%\n"
    }
   },
   "outputs": [],
   "source": [
    "# Model and reconstruction paths\n",
    "model_path = 'models/'\n",
    "recon_path = 'results/reconstructions/'\n",
    "\n",
    "# VAE model paths\n",
    "path_vae     = model_path + 'VAE.h5'\n",
    "path_encoder = model_path + 'VAE_encoder.h5'\n",
    "path_decoder = model_path + 'VAE_decoder.h5'\n",
    "\n",
    "# Data paths\n",
    "twins_path  = 'data/TwinsUK.xls'"
   ]
  },
  {
   "cell_type": "code",
   "execution_count": 24,
   "metadata": {
    "pycharm": {
     "name": "#%%\n"
    }
   },
   "outputs": [],
   "source": [
    "# Load datasets\n",
    "twins_train_df = pd.read_excel(twins_path, sheet_name='Training Set')\n",
    "twins_test_df  = pd.read_excel(twins_path, sheet_name='Testing Set')\n",
    "twins_full_data = pd.concat([twins_train_df, twins_test_df], ignore_index = True)"
   ]
  },
  {
   "cell_type": "code",
   "execution_count": 25,
   "metadata": {
    "pycharm": {
     "name": "#%%\n"
    }
   },
   "outputs": [],
   "source": [
    "# Data & model configuration\n",
    "input_dim = twins_train_df.shape[1]\n",
    "intermediate_dim = 200\n",
    "latent_dim = 18\n",
    "\n",
    "# Note, to reconstruct Figure 2a and 2b, which shows\n",
    "# the correlation matrix MSE curve for varying latent dimensionalities d,\n",
    "# run the following code in a loop with \n",
    "#latent_dims = [5, 10, 15, 18, 20, 30, 40, 60, 80, 100, 120, 160, 200]\n",
    "\n",
    "kl_beta = 1e-2\n",
    "learning_rate = 1e-3\n",
    "\n",
    "# Instantiate model\n",
    "mtmodel = mtVAE(input_dim,\n",
    "                intermediate_dim,\n",
    "                latent_dim,\n",
    "                kl_beta,\n",
    "                learning_rate)\n",
    "\n",
    "\n",
    "# Load VAE model\n",
    "mtmodel.vae.load_weights(path_vae)\n",
    "mtmodel.encoder.load_weights(path_encoder)\n",
    "mtmodel.decoder.load_weights(path_decoder)\n",
    "\n",
    "\n",
    "######################\n",
    "# Define PCA model\n",
    "######################\n",
    "PCA_model_ = PCA_model(twins_train_df.values, latent_dim)\n",
    "\n",
    "######################\n",
    "# Define KPCA models\n",
    "######################\n",
    "poly_KPCA_model_ = KPCA_model(twins_train_df.values, latent_dim,\"poly\", 2, 0.001, 3, 5.0)\n",
    "cosine_KPCA_model_ = KPCA_model(twins_train_df.values,latent_dim,\"cosine\", 1, 0, 0, 0)\n",
    "sigmoid_KPCA_model_ = KPCA_model(twins_train_df.values,latent_dim,\"sigmoid\", 1, 0.05, 0, 0)\n",
    "rbf_KPCA_model_ = KPCA_model(twins_train_df.values,latent_dim,\"rbf\", 1, 0.005, 0, 0)"
   ]
  },
  {
   "cell_type": "markdown",
   "metadata": {
    "pycharm": {
     "name": "#%% md\n"
    }
   },
   "source": [
    "## Create and save data reconstructions"
   ]
  },
  {
   "cell_type": "code",
   "execution_count": null,
   "metadata": {
    "pycharm": {
     "name": "#%%\n"
    }
   },
   "outputs": [],
   "source": [
    "# Create save paths for reconstructed data\n",
    "train_vae_recon = f'{recon_path}Twins_train_VAE_reconstruction_d_{latent_dim}.csv'\n",
    "train_pca_recon = f'{recon_path}Twins_train_PCA_reconstruction_d_{latent_dim}.csv'\n",
    "train_cosine_kpca_recon = f'{recon_path}Twins_train_cosine_KPCA_reconstruction_d_{latent_dim}.csv'\n",
    "train_sigmoid_kpca_recon = f'{recon_path}Twins_train_sigmoid_KPCA_reconstruction_d_{latent_dim}.csv'\n",
    "train_rbf_kpca_recon = f'{recon_path}Twins_train_rbf_KPCA_reconstruction_d_{latent_dim}.csv'\n",
    "train_poly_kpca_recon = f'{recon_path}Twins_train_poly_KPCA_reconstruction_d_{latent_dim}.csv'\n",
    "\n",
    "test_vae_recon = f'{recon_path}Twins_test_VAE_reconstruction_d_{latent_dim}.csv'\n",
    "test_pca_recon = f'{recon_path}Twins_test_PCA_reconstruction_d_{latent_dim}.csv'\n",
    "test_cosine_kpca_recon = f'{recon_path}Twins_test_cosine_KPCA_reconstruction_d_{latent_dim}.csv'\n",
    "test_sigmoid_kpca_recon = f'{recon_path}Twins_test_sigmoid_KPCA_reconstruction_d_{latent_dim}.csv'\n",
    "test_rbf_kpca_recon = f'{recon_path}Twins_test_rbf_KPCA_reconstruction_d_{latent_dim}.csv'\n",
    "test_poly_kpca_recon = f'{recon_path}Twins_test_poly_KPCA_reconstruction_d_{latent_dim}.csv'"
   ]
  },
  {
   "cell_type": "code",
   "execution_count": null,
   "metadata": {
    "pycharm": {
     "name": "#%%\n"
    }
   },
   "outputs": [],
   "source": [
    "# Twins reconstruction\n",
    "save_reconstruction(twins_train_df, train_vae_recon, train_pca_recon, train_cosine_kpca_recon, train_sigmoid_kpca_recon, train_rbf_kpca_recon, train_poly_kpca_recon)\n",
    "save_reconstruction(twins_test_df, test_vae_recon, test_pca_recon, test_cosine_kpca_recon, test_sigmoid_kpca_recon, test_rbf_kpca_recon, test_poly_kpca_recon)"
   ]
  },
  {
   "cell_type": "code",
   "execution_count": null,
   "metadata": {
    "pycharm": {
     "name": "#%%\n"
    }
   },
   "outputs": [],
   "source": []
  }
 ],
 "metadata": {
  "kernelspec": {
   "display_name": "Python 3",
   "language": "python",
   "name": "python3"
  },
  "language_info": {
   "codemirror_mode": {
    "name": "ipython",
    "version": 3
   },
   "file_extension": ".py",
   "mimetype": "text/x-python",
   "name": "python",
   "nbconvert_exporter": "python",
   "pygments_lexer": "ipython3",
   "version": "3.6.12"
  }
 },
 "nbformat": 4,
 "nbformat_minor": 4
}