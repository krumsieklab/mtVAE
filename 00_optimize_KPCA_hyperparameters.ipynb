{
 "cells": [
  {
   "cell_type": "code",
   "execution_count": null,
   "metadata": {
    "pycharm": {
     "name": "#%%\n"
    }
   },
   "outputs": [],
   "source": [
    "from models import *\n",
    "\n",
    "import numpy as np\n",
    "import pandas as pd\n",
    "import math"
   ]
  },
  {
   "cell_type": "code",
   "execution_count": null,
   "metadata": {
    "pycharm": {
     "name": "#%%\n"
    }
   },
   "outputs": [],
   "source": [
    "# Data paths\n",
    "data_path = 'data/TwinsUK.xls'\n",
    "\n",
    "# Load data\n",
    "tw_train_data = pd.read_excel(data_path, sheet_name='Training Set')\n",
    "tw_test_data = pd.read_excel(data_path, sheet_name='Testing Set')\n",
    "\n",
    "twins_data = pd.concat([tw_train_data, tw_test_data], ignore_index = True)"
   ]
  },
  {
   "cell_type": "code",
   "execution_count": null,
   "metadata": {
    "pycharm": {
     "name": "#%%\n"
    }
   },
   "outputs": [],
   "source": [
    "latent_dim=50\n",
    "def mse_scorer(latent_dim, kernel, alpha, gamma, coef0, degree, X_train, X_test):\n",
    "    '''Takes as input a latent dimension an and all hyperparameters of the KPCA\n",
    "    model (including kernel type) and returns a list containing the mean squared\n",
    "    errors of the KPCA model on the Twins train and test data'''\n",
    "\n",
    "    KPCA_model_= KPCA_model(X_train, latent_dim, kernel, alpha, gamma, coef0, degree)\n",
    "    train_pred = KPCA_model_.reconstruct(X_train)\n",
    "    test_pred = KPCA_model_.reconstruct(X_test)\n",
    "    train_error = math.sqrt(np.mean((X_train - train_pred)**2))\n",
    "    test_error = math.sqrt(np.mean((X_test - test_pred)**2))\n",
    "    return (train_error,test_error)"
   ]
  },
  {
   "cell_type": "code",
   "execution_count": null,
   "metadata": {
    "pycharm": {
     "name": "#%%\n"
    }
   },
   "outputs": [],
   "source": [
    "# Determine the best hyperparameters for the cosine KPCA kernel\n",
    "alpha_vals = [1,2,3,4,5]\n",
    "cosine_min_score = float(\"Inf\")\n",
    "cosine_alpha = 0\n",
    "for i in (alpha_vals):\n",
    "    score = mse_scorer(latent_dim, \"cosine\", i, 0, 0, 0, tw_train_data.values,tw_test_data.values)[1]\n",
    "    if score < cosine_min_score:\n",
    "        cosine_min_score = score\n",
    "        cosine_alpha = i"
   ]
  },
  {
   "cell_type": "code",
   "execution_count": null,
   "metadata": {
    "pycharm": {
     "name": "#%%\n"
    }
   },
   "outputs": [],
   "source": [
    "# Determine the best hyperparameters for the RBF KPCA kernel\n",
    "alpha_vals = [1,2,3,4]\n",
    "gamma_vals = [0.001, 0.005,0.01,0.05,0.1]\n",
    "\n",
    "rbf_min_score = float(\"Inf\")\n",
    "rbf_params = []\n",
    "\n",
    "for i in alpha_vals:\n",
    "    for j in gamma_vals:\n",
    "        score = mse_scorer(latent_dim, \"rbf\", i, j, 0, 0, tw_train_data.values,tw_test_data.values)[1]\n",
    "        if score < rbf_min_score:\n",
    "                rbf_min_score = score\n",
    "                rbf_params = [i,j]"
   ]
  },
  {
   "cell_type": "code",
   "execution_count": null,
   "metadata": {
    "pycharm": {
     "name": "#%%\n"
    }
   },
   "outputs": [],
   "source": [
    "# Determine the best hyperparameters for the sigmoid KPCA kernel\n",
    "alpha_vals = [1,2,3,4,5]\n",
    "gamma_vals = [0.001, 0.005,0.01,0.05,0.1]\n",
    "coef0_vals = [0,1,2,3]\n",
    "\n",
    "sigmoid_min_score = float(\"Inf\")\n",
    "sigmoid_params = []\n",
    "for i in alpha_vals:\n",
    "    for j in gamma_vals:\n",
    "        for k in coef0_vals:\n",
    "            try:\n",
    "                score = mse_scorer(latent_dim, \"sigmoid\", i, j, k, 0, tw_train_data.values,tw_test_data.values)[1]\n",
    "                if score < sigmoid_min_score:\n",
    "                        sigmoid_min_score = score\n",
    "                        sigmoid_params = [i,j,k]\n",
    "            except: break"
   ]
  },
  {
   "cell_type": "code",
   "execution_count": null,
   "metadata": {
    "pycharm": {
     "name": "#%%\n"
    }
   },
   "outputs": [],
   "source": [
    "# Determine the best hyperparameters for the polynomial KPCA kernel\n",
    "alpha_vals = [1,2,3,4,5]\n",
    "gamma_vals = [0.001, 0.005,0.01,0.05,0.1]\n",
    "coef0_vals = [0,1,2,3]\n",
    "degree_vals = [2.0, 3.0, 4.0, 5.0,6.0, 7.0]\n",
    "\n",
    "poly_min_score = float(\"Inf\")\n",
    "poly_params = []\n",
    "\n",
    "for i in alpha_vals:\n",
    "    for j in gamma_vals:\n",
    "        for k in coef0_vals:\n",
    "            for m in degree_vals:\n",
    "                try:\n",
    "                    score = mse_scorer(latent_dim, \"poly\", i, j, k, m, tw_train_data.values,tw_test_data.values)[1]\n",
    "                    if score < poly_min_score:\n",
    "                        poly_min_score = score\n",
    "                        poly_params = [i,j,k,m]\n",
    "                except: break"
   ]
  },
  {
   "cell_type": "code",
   "execution_count": null,
   "metadata": {
    "pycharm": {
     "name": "#%%\n"
    }
   },
   "outputs": [],
   "source": [
    "print('================= Cosine Kernel Parameters ========================')\n",
    "print('Best testing score: ', cosine_min_score)\n",
    "print('Alpha: \\t Gamma: \\t Coef0: \\t  Degree:')\n",
    "print(cosine_alpha, '\\t  NA \\t \\t NA \\t \\t NA')\n",
    "\n",
    "print('================= RBF Kernel Parameters========================')\n",
    "print('Best testing score: ', rbf_min_score)\n",
    "print('Alpha: \\t Gamma: \\t Coef0: \\t  Degree:')\n",
    "print(rbf_params[0], '\\t', rbf_params[1],'\\t \\t NA \\t \\t NA')\n",
    "\n",
    "print('================= Sigmoid Kernel Parameters========================')\n",
    "print('Best testing score: ', sigmoid_min_score)\n",
    "print('Alpha: \\t Gamma: \\t Coef0: \\t  Degree:')\n",
    "print(sigmoid_params[0], '\\t', sigmoid_params[1],'\\t \\t', sigmoid_params[2],'\\t \\t NA')\n",
    "\n",
    "print('================= Polynomial Kernel Parameters========================')\n",
    "print('Best testing score: ', poly_min_score)\n",
    "print('Alpha: \\t Gamma: \\t Coef0: \\t  Degree:')\n",
    "print(poly_params[0], '\\t', poly_params[1],'\\t \\t', poly_params[2],'\\t \\t', poly_params[3])"
   ]
  },
  {
   "cell_type": "code",
   "execution_count": null,
   "metadata": {
    "pycharm": {
     "name": "#%%\n"
    }
   },
   "outputs": [],
   "source": []
  }
 ],
 "metadata": {
  "kernelspec": {
   "display_name": "Python 3",
   "language": "python",
   "name": "python3"
  },
  "language_info": {
   "codemirror_mode": {
    "name": "ipython",
    "version": 3
   },
   "file_extension": ".py",
   "mimetype": "text/x-python",
   "name": "python",
   "nbconvert_exporter": "python",
   "pygments_lexer": "ipython3",
   "version": "3.6.12"
  }
 },
 "nbformat": 4,
 "nbformat_minor": 4
}