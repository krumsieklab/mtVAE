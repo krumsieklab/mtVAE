{
 "cells": [
  {
   "cell_type": "code",
   "execution_count": null,
   "metadata": {
    "pycharm": {
     "name": "#%%\n"
    }
   },
   "outputs": [],
   "source": [
    "from models import *\n",
    "from metric_functions import *\n",
    "\n",
    "import numpy as np\n",
    "import pandas as pd"
   ]
  },
  {
   "cell_type": "code",
   "execution_count": null,
   "metadata": {
    "pycharm": {
     "name": "#%%\n"
    }
   },
   "outputs": [],
   "source": [
    "# Define paths\n",
    "twins_path = 'data/TwinsUK.xls'\n",
    "\n",
    "save_folder = 'models/'"
   ]
  },
  {
   "cell_type": "code",
   "execution_count": null,
   "metadata": {
    "pycharm": {
     "name": "#%%\n"
    }
   },
   "outputs": [],
   "source": [
    "# Load files\n",
    "twins_train_df = pd.read_excel(twins_path, sheet_name='Training Set')\n",
    "twins_test_df = pd.read_excel(twins_path, sheet_name='Testing Set')\n",
    "\n",
    "# NOTE: there is also a full_overlap_data version in the twins h5 file, but\n",
    "# here we are just concatenating the loaded train and test datasets, to\n",
    "# preserve sample order\n",
    "twins_full_data = pd.concat([twins_train_df, twins_test_df], ignore_index = True)\n",
    "\n",
    "print('Twins data shape:\\t'        + str(twins_full_data.shape))\n",
    "print('Twins train data shape:\\t'  + str(twins_train_df.shape))\n",
    "print('Twins test data shape:\\t'   + str(twins_test_df.shape))\n",
    "print('')"
   ]
  },
  {
   "cell_type": "code",
   "execution_count": null,
   "metadata": {
    "pycharm": {
     "name": "#%%\n"
    }
   },
   "outputs": [],
   "source": [
    "# Data & model configuration\n",
    "input_dim = twins_train_df.shape[1]\n",
    "intermediate_dim = 200\n",
    "latent_dim = 18\n",
    "\n",
    "kl_beta = 1e-2\n",
    "learning_rate = 1e-3\n",
    "\n",
    "batch_size = 32\n",
    "n_epochs = 1000\n",
    "\n",
    "\n",
    "# instantiate model\n",
    "mtmodel = mtVAE(input_dim,\n",
    "                intermediate_dim,\n",
    "                latent_dim,\n",
    "                kl_beta,\n",
    "                learning_rate)"
   ]
  },
  {
   "cell_type": "code",
   "execution_count": null,
   "metadata": {
    "scrolled": true,
    "pycharm": {
     "name": "#%%\n"
    }
   },
   "outputs": [],
   "source": [
    "# Train model\n",
    "mtmodel.train(twins_train_df, twins_test_df, n_epochs, batch_size)"
   ]
  },
  {
   "cell_type": "code",
   "execution_count": null,
   "metadata": {
    "pycharm": {
     "name": "#%%\n"
    }
   },
   "outputs": [],
   "source": [
    "# Save model\n",
    "mtmodel.save_model(save_folder)"
   ]
  },
  {
   "cell_type": "markdown",
   "metadata": {
    "pycharm": {
     "name": "#%% md\n"
    }
   },
   "source": [
    "## Calculate model performance metrics"
   ]
  },
  {
   "cell_type": "code",
   "execution_count": null,
   "metadata": {
    "pycharm": {
     "name": "#%%\n"
    }
   },
   "outputs": [],
   "source": [
    "# these arrays are used for score calculations\n",
    "twins_train = twins_train_df.values\n",
    "twins_test  = twins_test_df.values"
   ]
  },
  {
   "cell_type": "code",
   "execution_count": null,
   "metadata": {
    "pycharm": {
     "name": "#%%\n"
    }
   },
   "outputs": [],
   "source": [
    "######################\n",
    "# Define PCA model\n",
    "######################\n",
    "PCA_model_ = PCA_model(twins_train, latent_dim)"
   ]
  },
  {
   "cell_type": "code",
   "execution_count": null,
   "metadata": {
    "pycharm": {
     "name": "#%%\n"
    }
   },
   "outputs": [],
   "source": [
    "# Generate TwinsUK dataset reconstructions with VAE and PCA\n",
    "VAE_train = mtmodel.reconstruct(twins_train)\n",
    "VAE_test  = mtmodel.reconstruct(twins_test)\n",
    "\n",
    "PCA_train = PCA_model_.reconstruct(twins_train)\n",
    "PCA_test  = PCA_model_.reconstruct(twins_test)"
   ]
  },
  {
   "cell_type": "code",
   "execution_count": null,
   "metadata": {
    "pycharm": {
     "name": "#%%\n"
    }
   },
   "outputs": [],
   "source": [
    "# Calculate sample-wise MSEs\n",
    "test_mses       = np.mean(get_mse(VAE_test,  twins_test))\n",
    "train_mses      = np.mean(get_mse(VAE_train, twins_train))\n",
    "\n",
    "test_mses_pca   = np.mean(get_mse(PCA_test,  twins_test))\n",
    "train_mses_pca  = np.mean(get_mse(PCA_train, twins_train))\n",
    "\n",
    "\n",
    "print('==================== Sample-wise ============================')\n",
    "print('======================= MSEs ================================')\n",
    "print('\\t \\t \\t VAE \\t \\t \\t PCA')\n",
    "print('Twins train:\\t ',  train_mses, '\\t ', train_mses_pca)\n",
    "print('Twins test:\\t ',   test_mses,  '\\t ', test_mses_pca)\n",
    "print('')\n",
    "print('')\n",
    "\n",
    "\n",
    "# Calculate correlation matrix MSEs (i.e. CM-MSEs)\n",
    "test_mses  = matrix_mse(VAE_test,  twins_test)\n",
    "train_mses = matrix_mse(VAE_train, twins_train)\n",
    "\n",
    "test_mses_pca  = matrix_mse(PCA_test,  twins_test)\n",
    "train_mses_pca = matrix_mse(PCA_train, twins_train)\n",
    "\n",
    "\n",
    "print('================= Correlation Matrix ========================')\n",
    "print('======================= MSEs ================================')\n",
    "print('\\t \\t \\t VAE \\t \\t \\t PCA')\n",
    "print('Twins train:\\t ',  train_mses, '\\t ', train_mses_pca)\n",
    "print('Twins test:\\t ',   test_mses, '\\t ',  test_mses_pca)"
   ]
  },
  {
   "cell_type": "code",
   "execution_count": null,
   "metadata": {
    "pycharm": {
     "name": "#%%\n"
    }
   },
   "outputs": [],
   "source": []
  }
 ],
 "metadata": {
  "kernelspec": {
   "display_name": "Python 3",
   "language": "python",
   "name": "python3"
  },
  "language_info": {
   "codemirror_mode": {
    "name": "ipython",
    "version": 3
   },
   "file_extension": ".py",
   "mimetype": "text/x-python",
   "name": "python",
   "nbconvert_exporter": "python",
   "pygments_lexer": "ipython3",
   "version": "3.6.12"
  }
 },
 "nbformat": 4,
 "nbformat_minor": 4
}